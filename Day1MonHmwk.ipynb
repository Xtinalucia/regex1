{
 "cells": [
  {
   "cell_type": "markdown",
   "id": "59a82e02",
   "metadata": {},
   "source": [
    " readlines()\n",
    "    \n",
    "print the last name on each line using regular expressions and groups \n",
    "(return None for names with no first and last name, or names that aren't properly capitalized)"
   ]
  },
  {
   "cell_type": "code",
   "execution_count": 339,
   "id": "67708460",
   "metadata": {},
   "outputs": [
    {
     "name": "stdout",
     "output_type": "stream",
     "text": [
      " Lincoln\n",
      " Garfield\n",
      " Milliken\n",
      " Alexander\n",
      " Williams\n"
     ]
    }
   ],
   "source": [
    "import re\n",
    "\n",
    "with open('regex_test.txt') as f:\n",
    "    contents = f.read()\n",
    "\n",
    "\n",
    "pattern = re.compile(' ([A-Z][a-z]+)')\n",
    "matches = pattern.finditer(contents)\n",
    "for match in matches:\n",
    "        \n",
    "        if match:\n",
    "            \n",
    "            print(match.group())\n",
    "            \n",
    "            \n",
    "        #else:\n",
    "            #print(none)\n",
    "                 \n",
    "    "
   ]
  },
  {
   "cell_type": "code",
   "execution_count": 201,
   "id": "6bcdf98e",
   "metadata": {},
   "outputs": [
    {
     "name": "stdout",
     "output_type": "stream",
     "text": [
      "Abraham Lincoln\n",
      "Andrew P Garfield\n",
      "Connor Milliken\n",
      "Jordan Alexander Williams\n",
      "Madonna\n",
      "programming is cool\n",
      "\n"
     ]
    }
   ],
   "source": [
    "import re\n",
    "\n",
    "with open('regex_test.txt','r') as f:\n",
    "    contents = f.read()\n",
    "    \n",
    "#print(f.readlines()) To read all the lines at a single go \n",
    "#and then return them as each line a string element in a list.    \n",
    "print(contents)"
   ]
  },
  {
   "cell_type": "code",
   "execution_count": 334,
   "id": "9616b648",
   "metadata": {},
   "outputs": [
    {
     "name": "stdout",
     "output_type": "stream",
     "text": [
      "Alexander\n"
     ]
    }
   ],
   "source": [
    "import re\n",
    "\n",
    "with open('regex_test.txt') as f:\n",
    "    contents = f.read()\n",
    "\n",
    "\n",
    "pattern = re.compile('[A-Z][a-z]{8}')\n",
    "matches = pattern.finditer(contents)\n",
    "\n",
    "        \n",
    "for match in matches:\n",
    "        \n",
    "        if match:\n",
    "            \n",
    "            print(match.group())\n",
    "        \n",
    "\n",
    "            \n",
    "            \n",
    "        #else:\n",
    "            #print(none)"
   ]
  },
  {
   "cell_type": "code",
   "execution_count": null,
   "id": "e8eec9f3",
   "metadata": {},
   "outputs": [],
   "source": []
  },
  {
   "cell_type": "code",
   "execution_count": null,
   "id": "1d5f7828",
   "metadata": {},
   "outputs": [],
   "source": []
  }
 ],
 "metadata": {
  "kernelspec": {
   "display_name": "Python 3",
   "language": "python",
   "name": "python3"
  },
  "language_info": {
   "codemirror_mode": {
    "name": "ipython",
    "version": 3
   },
   "file_extension": ".py",
   "mimetype": "text/x-python",
   "name": "python",
   "nbconvert_exporter": "python",
   "pygments_lexer": "ipython3",
   "version": "3.8.8"
  }
 },
 "nbformat": 4,
 "nbformat_minor": 5
}
